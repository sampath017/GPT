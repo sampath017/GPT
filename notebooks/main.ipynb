{
 "cells": [
  {
   "cell_type": "code",
   "execution_count": 32,
   "metadata": {},
   "outputs": [],
   "source": [
    "import sys\n",
    "from pathlib import Path\n",
    "\n",
    "sys.path.append((Path.cwd().parent / \"src\").absolute().as_posix())\n",
    "\n",
    "from engine.module import ShakespeareModule\n",
    "from engine.settings import num_words, context_size, models_path, decode, word_to_i, i_to_word\n",
    "\n",
    "import torch\n",
    "import wandb"
   ]
  },
  {
   "cell_type": "code",
   "execution_count": 27,
   "metadata": {},
   "outputs": [],
   "source": [
    "model = ShakespeareModule.load_from_checkpoint(\n",
    "    models_path / \"word_embds.ckpt\", num_words=num_words, context_size=context_size)  # should be outside loop"
   ]
  },
  {
   "cell_type": "code",
   "execution_count": 30,
   "metadata": {},
   "outputs": [
    {
     "data": {
      "text/plain": [
       "[5072, 21488, 20821, 19946, 22386]"
      ]
     },
     "execution_count": 30,
     "metadata": {},
     "output_type": "execute_result"
    }
   ],
   "source": [
    "weights = model.model[0].weight\n",
    "test_word = \"an\"\n",
    "test_word_i = word_to_i[test_word]\n",
    "test_word_embds = weights[test_word_i]\n",
    "\n",
    "result = torch.matmul(test_word_embds, weights.T)\n",
    "matching_word_i = result.topk(k=5).indices.tolist()\n",
    "matching_word_i"
   ]
  },
  {
   "cell_type": "code",
   "execution_count": 31,
   "metadata": {},
   "outputs": [
    {
     "name": "stdout",
     "output_type": "stream",
     "text": [
      "an\n",
      "spray\n",
      "sink?\n",
      "satisfy\n",
      "table,\n"
     ]
    }
   ],
   "source": [
    "matching_words = [] \n",
    "for i in matching_word_i:\n",
    "    print(i_to_word[i])"
   ]
  },
  {
   "cell_type": "code",
   "execution_count": null,
   "metadata": {},
   "outputs": [],
   "source": []
  },
  {
   "cell_type": "code",
   "execution_count": null,
   "metadata": {},
   "outputs": [],
   "source": []
  }
 ],
 "metadata": {
  "kernelspec": {
   "display_name": "base",
   "language": "python",
   "name": "python3"
  },
  "language_info": {
   "codemirror_mode": {
    "name": "ipython",
    "version": 3
   },
   "file_extension": ".py",
   "mimetype": "text/x-python",
   "name": "python",
   "nbconvert_exporter": "python",
   "pygments_lexer": "ipython3",
   "version": "3.11.7"
  }
 },
 "nbformat": 4,
 "nbformat_minor": 2
}

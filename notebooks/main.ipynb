{
 "cells": [
  {
   "cell_type": "code",
   "execution_count": 1,
   "metadata": {},
   "outputs": [],
   "source": [
    "import sys\n",
    "from pathlib import Path\n",
    "\n",
    "sys.path.append((Path.cwd().parent / \"src\").absolute().as_posix())\n",
    "\n",
    "from engine.module import ShakespeareModule\n",
    "from engine.settings import num_chars, context_size, decode, itoc, ctoi\n",
    "\n",
    "import torch\n",
    "import wandb"
   ]
  },
  {
   "cell_type": "code",
   "execution_count": 3,
   "metadata": {},
   "outputs": [],
   "source": [
    "model = ShakespeareModule.load_from_checkpoint(\n",
    "    \"C:\\\\Users\\\\sampath\\\\Dev\\\\Makemore\\\\data\\\\logs\\\\GPT\\\\2xgrvgac\\\\checkpoints\\\\best.ckpt\", num_chars=num_chars, context_size=context_size)  "
   ]
  },
  {
   "cell_type": "code",
   "execution_count": 10,
   "metadata": {},
   "outputs": [
    {
     "data": {
      "text/plain": [
       "[29, 25, 15, 22, 13]"
      ]
     },
     "execution_count": 10,
     "metadata": {},
     "output_type": "execute_result"
    }
   ],
   "source": [
    "weights = model.model[0].weight\n",
    "test_c = \"i\"\n",
    "test_c_i = ctoi[test_c]\n",
    "test_c_embds = weights[test_c_i]\n",
    "\n",
    "result = torch.matmul(test_c_embds, weights.T)\n",
    "matching_c_i = result.topk(k=5).indices.tolist()\n",
    "matching_c_i"
   ]
  },
  {
   "cell_type": "code",
   "execution_count": 11,
   "metadata": {},
   "outputs": [
    {
     "name": "stdout",
     "output_type": "stream",
     "text": [
      "Q\n",
      "M\n",
      "C\n",
      "J\n",
      "A\n"
     ]
    }
   ],
   "source": [
    "for i in matching_c_i:\n",
    "    print(itoc[i])"
   ]
  },
  {
   "cell_type": "code",
   "execution_count": 12,
   "metadata": {},
   "outputs": [
    {
     "data": {
      "text/plain": [
       "'i'"
      ]
     },
     "execution_count": 12,
     "metadata": {},
     "output_type": "execute_result"
    }
   ],
   "source": [
    "itoc[ctoi[test_c]]"
   ]
  },
  {
   "cell_type": "code",
   "execution_count": null,
   "metadata": {},
   "outputs": [],
   "source": []
  }
 ],
 "metadata": {
  "kernelspec": {
   "display_name": "base",
   "language": "python",
   "name": "python3"
  },
  "language_info": {
   "codemirror_mode": {
    "name": "ipython",
    "version": 3
   },
   "file_extension": ".py",
   "mimetype": "text/x-python",
   "name": "python",
   "nbconvert_exporter": "python",
   "pygments_lexer": "ipython3",
   "version": "3.11.7"
  }
 },
 "nbformat": 4,
 "nbformat_minor": 2
}

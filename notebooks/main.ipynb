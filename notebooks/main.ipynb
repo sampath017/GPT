{
 "cells": [
  {
   "cell_type": "code",
   "execution_count": 1,
   "metadata": {},
   "outputs": [],
   "source": [
    "import sys\n",
    "from pathlib import Path\n",
    "\n",
    "sys.path.append((Path.cwd().parent / \"src\").absolute().as_posix())\n",
    "\n",
    "from engine.module import ShakespeareModule\n",
    "from engine.settings import num_chars, context_size, models_path, ctoi, itoc\n",
    "\n",
    "import torch"
   ]
  },
  {
   "cell_type": "code",
   "execution_count": 19,
   "metadata": {},
   "outputs": [
    {
     "name": "stdout",
     "output_type": "stream",
     "text": [
      ",\n",
      "u\n",
      "y\n",
      "t\n",
      "l\n",
      "w\n",
      "h\n",
      "m\n",
      "i\n",
      ";\n",
      "f\n",
      ".\n",
      "d\n",
      "s\n",
      ":\n",
      "v\n",
      "g\n",
      "c\n",
      "k\n",
      "e\n"
     ]
    }
   ],
   "source": [
    "model = ShakespeareModule.load_from_checkpoint(models_path/\"best.ckpt\", num_chars=num_chars, context_size=context_size) \n",
    "\n",
    "weights = model.model[0].weight\n",
    "test_char = \"u\"\n",
    "test_char_i = ctoi[test_char]\n",
    "test_char_embds = weights[test_char_i]\n",
    "result = torch.matmul(test_char_embds, weights.T)\n",
    "matching_chars_i  = result.topk(k=20).indices.tolist()\n",
    "\n",
    "for i in matching_chars_i:\n",
    "    char = itoc[i]\n",
    "    print(char)"
   ]
  },
  {
   "cell_type": "code",
   "execution_count": null,
   "metadata": {},
   "outputs": [],
   "source": []
  }
 ],
 "metadata": {
  "kernelspec": {
   "display_name": "base",
   "language": "python",
   "name": "python3"
  },
  "language_info": {
   "codemirror_mode": {
    "name": "ipython",
    "version": 3
   },
   "file_extension": ".py",
   "mimetype": "text/x-python",
   "name": "python",
   "nbconvert_exporter": "python",
   "pygments_lexer": "ipython3",
   "version": "3.11.7"
  }
 },
 "nbformat": 4,
 "nbformat_minor": 2
}

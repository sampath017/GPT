{
 "cells": [
  {
   "cell_type": "code",
   "execution_count": 1,
   "metadata": {},
   "outputs": [],
   "source": [
    "import sys\n",
    "from pathlib import Path\n",
    "\n",
    "sys.path.append((Path.cwd().parent / \"src\").absolute().as_posix())\n",
    "\n",
    "from engine.module import ShakespeareModule\n",
    "from engine.settings import num_chars, context_size, models_path, ctoi, itoc\n",
    "\n",
    "import torch"
   ]
  },
  {
   "cell_type": "code",
   "execution_count": 2,
   "metadata": {},
   "outputs": [
    {
     "data": {
      "text/plain": [
       "ShakespeareModule(\n",
       "  (model): Sequential(\n",
       "    (0): Embedding(65, 65)\n",
       "    (1): Head()\n",
       "  )\n",
       ")"
      ]
     },
     "execution_count": 2,
     "metadata": {},
     "output_type": "execute_result"
    }
   ],
   "source": [
    "model = ShakespeareModule.load_from_checkpoint(models_path/\"best.ckpt\", num_chars=num_chars, context_size=context_size) \n",
    "model"
   ]
  },
  {
   "cell_type": "code",
   "execution_count": null,
   "metadata": {},
   "outputs": [],
   "source": [
    "weights = model.model[0].weight"
   ]
  },
  {
   "cell_type": "code",
   "execution_count": 3,
   "metadata": {},
   "outputs": [
    {
     "data": {
      "text/plain": [
       "[29, 22, 25, 55, 23]"
      ]
     },
     "execution_count": 3,
     "metadata": {},
     "output_type": "execute_result"
    }
   ],
   "source": [
    "test_char = \"a\"\n",
    "test_char_i = ctoi[test_char]\n",
    "test_char_embds = weights[test_char_i]\n",
    "\n",
    "result = torch.matmul(test_char_embds, weights.T)\n",
    "matching_chars_i  = result.topk(k=5).indices.tolist()\n",
    "matching_chars_i"
   ]
  },
  {
   "cell_type": "code",
   "execution_count": 4,
   "metadata": {},
   "outputs": [
    {
     "name": "stdout",
     "output_type": "stream",
     "text": [
      "Q\n",
      "J\n",
      "M\n",
      "q\n",
      "K\n"
     ]
    }
   ],
   "source": [
    "for i in matching_chars_i:\n",
    "    print(itoc[i])"
   ]
  },
  {
   "cell_type": "code",
   "execution_count": 5,
   "metadata": {},
   "outputs": [
    {
     "data": {
      "text/plain": [
       "tensor([ 482.0188,  750.6710,  708.8148,  312.5056,  567.2358, 1423.5480,\n",
       "        2227.5613, 1405.2024,  276.1020, 2338.2939, 1885.2955, 2414.7148,\n",
       "         507.8205, 2503.1929, 2451.0371, 2683.4761, 1733.0189,  887.6876,\n",
       "        1835.2903, 1409.9200, 2810.7900,  938.2836, 3345.4014, 2816.0625,\n",
       "        1256.0354, 3077.8457, 1192.5334,  788.0581, 2403.9434, 4914.3164,\n",
       "        1029.1432, 2007.8932, 1795.0709, 1828.2961, 2455.7358, 2738.2495,\n",
       "        2385.0649, 2048.5566, 2669.8420, 1566.7632, 2348.9067, 1598.2114,\n",
       "        1112.2563, 1213.8704, 2296.5151, 1269.8702, 2465.4346, 1699.2742,\n",
       "        2642.3865, 1704.3848, 1386.8505, 1414.2864, 1189.6650, 1549.0642,\n",
       "        2137.1230, 2950.8286, 1016.4895, 1157.1522, 1295.8198, 1902.0975,\n",
       "        2075.5493, 2115.7349, 2533.5168, 1395.6260, 1854.3397],\n",
       "       grad_fn=<SqueezeBackward4>)"
      ]
     },
     "execution_count": 5,
     "metadata": {},
     "output_type": "execute_result"
    }
   ],
   "source": [
    "result"
   ]
  },
  {
   "cell_type": "code",
   "execution_count": null,
   "metadata": {},
   "outputs": [],
   "source": []
  }
 ],
 "metadata": {
  "kernelspec": {
   "display_name": "base",
   "language": "python",
   "name": "python3"
  },
  "language_info": {
   "codemirror_mode": {
    "name": "ipython",
    "version": 3
   },
   "file_extension": ".py",
   "mimetype": "text/x-python",
   "name": "python",
   "nbconvert_exporter": "python",
   "pygments_lexer": "ipython3",
   "version": "3.11.7"
  }
 },
 "nbformat": 4,
 "nbformat_minor": 2
}

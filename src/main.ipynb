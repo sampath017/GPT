{
 "cells": [
  {
   "cell_type": "code",
   "execution_count": 1,
   "metadata": {},
   "outputs": [],
   "source": [
    "from module import NamesModule\n",
    "from data_module import NamesDataModule\n",
    "\n",
    "from pathlib import Path\n",
    "\n",
    "from torch.utils.data import DataLoader\n",
    "from lightning.pytorch.loggers import WandbLogger\n",
    "\n",
    "import lightning as L"
   ]
  },
  {
   "cell_type": "code",
   "execution_count": 2,
   "metadata": {},
   "outputs": [
    {
     "data": {
      "text/plain": [
       "NamesModule(\n",
       "  (model): Sequential(\n",
       "    (0): Embedding(28, 84)\n",
       "    (1): Linear(in_features=84, out_features=200, bias=True)\n",
       "    (2): ReLU()\n",
       "    (3): Linear(in_features=200, out_features=200, bias=True)\n",
       "    (4): ReLU()\n",
       "    (5): Linear(in_features=200, out_features=28, bias=True)\n",
       "  )\n",
       ")"
      ]
     },
     "execution_count": 2,
     "metadata": {},
     "output_type": "execute_result"
    }
   ],
   "source": [
    "root_path = Path(\"..\")\n",
    "data_path = root_path / \"data/names.txt\"\n",
    "logs_path = root_path / \"data/logs\" \n",
    "logs_path.mkdir(parents=True, exist_ok=True)\n",
    "\n",
    "dm = NamesDataModule(data_path, batch_size=64)\n",
    "dm.setup(stage=\"fit\")\n",
    "\n",
    "model = NamesModule(dm.dataset.num_chars)\n",
    "model"
   ]
  },
  {
   "cell_type": "code",
   "execution_count": 3,
   "metadata": {},
   "outputs": [
    {
     "name": "stderr",
     "output_type": "stream",
     "text": [
      "GPU available: False, used: False\n",
      "TPU available: False, using: 0 TPU cores\n",
      "HPU available: False, using: 0 HPUs\n",
      "Running in `fast_dev_run` mode: will run the requested loop using 1 batch(es). Logging and checkpointing is suppressed.\n"
     ]
    }
   ],
   "source": [
    "logger = WandbLogger(project=\"Makemore\", save_dir=logs_path, log_model=\"all\")\n",
    "trainer = L.Trainer(max_epochs=5, fast_dev_run=False, logger=logger)\n",
    "trainer.fit(model, dm)"
   ]
  },
  {
   "cell_type": "code",
   "execution_count": null,
   "metadata": {},
   "outputs": [],
   "source": []
  }
 ],
 "metadata": {
  "kernelspec": {
   "display_name": ".venv",
   "language": "python",
   "name": "python3"
  },
  "language_info": {
   "codemirror_mode": {
    "name": "ipython",
    "version": 3
   },
   "file_extension": ".py",
   "mimetype": "text/x-python",
   "name": "python",
   "nbconvert_exporter": "python",
   "pygments_lexer": "ipython3",
   "version": "3.11.7"
  }
 },
 "nbformat": 4,
 "nbformat_minor": 2
}

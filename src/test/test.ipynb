{
 "cells": [
  {
   "cell_type": "code",
   "execution_count": 1,
   "id": "85364bf6",
   "metadata": {},
   "outputs": [],
   "source": [
    "import test_settings as s\n",
    "import sys\n",
    "sys.path.append(\"../\")\n",
    "\n",
    "from test_models import GPT\n",
    "from test_dataset import TestDataLoaderLite\n",
    "from test_utils import Trainer, generate\n",
    "import wandb \n",
    "import torch"
   ]
  },
  {
   "cell_type": "code",
   "execution_count": 2,
   "id": "911669fc",
   "metadata": {},
   "outputs": [
    {
     "data": {
      "text/plain": [
       "torch.Size([4, 8])"
      ]
     },
     "execution_count": 2,
     "metadata": {},
     "output_type": "execute_result"
    }
   ],
   "source": [
    "model = GPT().to(s.config[\"device\"])\n",
    "\n",
    "model.eval()\n",
    "num_return_sequences = 4\n",
    "max_length = 32\n",
    "tokens = s.enc.encode(\"Hello, I'm a language model,\")\n",
    "tokens = torch.tensor(tokens, dtype=torch.long)\n",
    "tokens = tokens.unsqueeze(0).repeat(num_return_sequences, 1)\n",
    "xgen = tokens.to(s.device)\n",
    "xgen.shape"
   ]
  },
  {
   "cell_type": "code",
   "execution_count": 3,
   "id": "c553342c",
   "metadata": {},
   "outputs": [],
   "source": [
    "logits, loss = model(xgen)  "
   ]
  },
  {
   "cell_type": "code",
   "execution_count": 4,
   "id": "b63ef23f",
   "metadata": {},
   "outputs": [],
   "source": [
    "logits, loss = model(xgen)  \n",
    "# take the logits at the last position\n",
    "logits = logits[:, -1, :]  # (B, vocab_size)\n",
    "# get the probabilities\n"
   ]
  },
  {
   "cell_type": "code",
   "execution_count": null,
   "id": "286e0233",
   "metadata": {},
   "outputs": [],
   "source": []
  }
 ],
 "metadata": {
  "kernelspec": {
   "display_name": "gpt",
   "language": "python",
   "name": "python3"
  },
  "language_info": {
   "codemirror_mode": {
    "name": "ipython",
    "version": 3
   },
   "file_extension": ".py",
   "mimetype": "text/x-python",
   "name": "python",
   "nbconvert_exporter": "python",
   "pygments_lexer": "ipython3",
   "version": "3.13.3"
  }
 },
 "nbformat": 4,
 "nbformat_minor": 5
}
